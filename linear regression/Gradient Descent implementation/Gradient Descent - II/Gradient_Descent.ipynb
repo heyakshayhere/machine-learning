{
 "cells": [
  {
   "cell_type": "code",
   "execution_count": 11,
   "id": "63fdd3b6",
   "metadata": {},
   "outputs": [],
   "source": [
    "import pandas as pd\n",
    "import numpy as np\n",
    "import warnings\n",
    "warnings.filterwarnings(action=\"ignore\")"
   ]
  },
  {
   "cell_type": "code",
   "execution_count": 12,
   "id": "9150adf6",
   "metadata": {},
   "outputs": [],
   "source": [
    "df=pd.read_csv(r'gd_data.csv',nrows=200).rename(columns={\"x\":\"Area\",'y':\"Price\"})"
   ]
  },
  {
   "cell_type": "code",
   "execution_count": 14,
   "id": "44302e83",
   "metadata": {},
   "outputs": [
    {
     "data": {
      "text/html": [
       "<div>\n",
       "<style scoped>\n",
       "    .dataframe tbody tr th:only-of-type {\n",
       "        vertical-align: middle;\n",
       "    }\n",
       "\n",
       "    .dataframe tbody tr th {\n",
       "        vertical-align: top;\n",
       "    }\n",
       "\n",
       "    .dataframe thead th {\n",
       "        text-align: right;\n",
       "    }\n",
       "</style>\n",
       "<table border=\"1\" class=\"dataframe\">\n",
       "  <thead>\n",
       "    <tr style=\"text-align: right;\">\n",
       "      <th></th>\n",
       "      <th>Area</th>\n",
       "      <th>Price</th>\n",
       "    </tr>\n",
       "  </thead>\n",
       "  <tbody>\n",
       "    <tr>\n",
       "      <th>0</th>\n",
       "      <td>24</td>\n",
       "      <td>21.549452</td>\n",
       "    </tr>\n",
       "    <tr>\n",
       "      <th>1</th>\n",
       "      <td>50</td>\n",
       "      <td>47.464463</td>\n",
       "    </tr>\n",
       "    <tr>\n",
       "      <th>2</th>\n",
       "      <td>15</td>\n",
       "      <td>17.218656</td>\n",
       "    </tr>\n",
       "    <tr>\n",
       "      <th>3</th>\n",
       "      <td>38</td>\n",
       "      <td>36.586398</td>\n",
       "    </tr>\n",
       "    <tr>\n",
       "      <th>4</th>\n",
       "      <td>87</td>\n",
       "      <td>87.288984</td>\n",
       "    </tr>\n",
       "  </tbody>\n",
       "</table>\n",
       "</div>"
      ],
      "text/plain": [
       "   Area      Price\n",
       "0    24  21.549452\n",
       "1    50  47.464463\n",
       "2    15  17.218656\n",
       "3    38  36.586398\n",
       "4    87  87.288984"
      ]
     },
     "execution_count": 14,
     "metadata": {},
     "output_type": "execute_result"
    }
   ],
   "source": [
    "df.head()"
   ]
  },
  {
   "cell_type": "code",
   "execution_count": 15,
   "id": "7d3392a0",
   "metadata": {},
   "outputs": [],
   "source": [
    "#Scaling\n",
    "df=(df-df.mean())/df.std()"
   ]
  },
  {
   "cell_type": "code",
   "execution_count": 17,
   "id": "8230b1b6",
   "metadata": {},
   "outputs": [
    {
     "data": {
      "text/html": [
       "<div>\n",
       "<style scoped>\n",
       "    .dataframe tbody tr th:only-of-type {\n",
       "        vertical-align: middle;\n",
       "    }\n",
       "\n",
       "    .dataframe tbody tr th {\n",
       "        vertical-align: top;\n",
       "    }\n",
       "\n",
       "    .dataframe thead th {\n",
       "        text-align: right;\n",
       "    }\n",
       "</style>\n",
       "<table border=\"1\" class=\"dataframe\">\n",
       "  <thead>\n",
       "    <tr style=\"text-align: right;\">\n",
       "      <th></th>\n",
       "      <th>Area</th>\n",
       "      <th>Price</th>\n",
       "    </tr>\n",
       "  </thead>\n",
       "  <tbody>\n",
       "    <tr>\n",
       "      <th>0</th>\n",
       "      <td>-0.758416</td>\n",
       "      <td>-0.838286</td>\n",
       "    </tr>\n",
       "    <tr>\n",
       "      <th>1</th>\n",
       "      <td>0.170840</td>\n",
       "      <td>0.088614</td>\n",
       "    </tr>\n",
       "    <tr>\n",
       "      <th>2</th>\n",
       "      <td>-1.080081</td>\n",
       "      <td>-0.993185</td>\n",
       "    </tr>\n",
       "    <tr>\n",
       "      <th>3</th>\n",
       "      <td>-0.258047</td>\n",
       "      <td>-0.300461</td>\n",
       "    </tr>\n",
       "    <tr>\n",
       "      <th>4</th>\n",
       "      <td>1.493242</td>\n",
       "      <td>1.513015</td>\n",
       "    </tr>\n",
       "  </tbody>\n",
       "</table>\n",
       "</div>"
      ],
      "text/plain": [
       "       Area     Price\n",
       "0 -0.758416 -0.838286\n",
       "1  0.170840  0.088614\n",
       "2 -1.080081 -0.993185\n",
       "3 -0.258047 -0.300461\n",
       "4  1.493242  1.513015"
      ]
     },
     "execution_count": 17,
     "metadata": {},
     "output_type": "execute_result"
    }
   ],
   "source": [
    "df.head()"
   ]
  },
  {
   "cell_type": "code",
   "execution_count": 16,
   "id": "08f5dfc6",
   "metadata": {},
   "outputs": [
    {
     "data": {
      "text/plain": [
       "<AxesSubplot:xlabel='Area', ylabel='Price'>"
      ]
     },
     "execution_count": 16,
     "metadata": {},
     "output_type": "execute_result"
    },
    {
     "data": {
      "image/png": "[encoded data removed]",
      "text/plain": [
       "<Figure size 432x288 with 1 Axes>"
      ]
     },
     "metadata": {
      "needs_background": "light"
     },
     "output_type": "display_data"
    }
   ],
   "source": [
    "import seaborn as sns\n",
    "sns.scatterplot(x=df[\"Area\"],y=df[\"Price\"])"
   ]
  },
  {
   "cell_type": "code",
   "execution_count": 18,
   "id": "72a7b27d",
   "metadata": {},
   "outputs": [],
   "source": [
    "X=np.array(df[\"Area\"])\n",
    "y=np.array(df[\"Price\"])"
   ]
  },
  {
   "cell_type": "code",
   "execution_count": 30,
   "id": "793c53ce",
   "metadata": {},
   "outputs": [],
   "source": [
    "def gradient_descent(X,y,m_current=0,c_current=0,lr=0.1,iterations=1000):\n",
    "    N=float(len(y))\n",
    "    \n",
    "    gd_df=pd.DataFrame(columns=[\"m\",\"c\",\"cost\"])\n",
    "    for i in range(iterations):\n",
    "        \n",
    "        y_pred=m_current*X+c_current  #y_predictions\n",
    "        \n",
    "        cost = sum([k**2 for k in y-y_pred])/N ## Cost Function\n",
    "        \n",
    "        m_gradient=(-2/N)*sum((y-y_pred)*X) #dj/dm\n",
    "        \n",
    "        c_gradient=(-2/N)*sum(y-y_pred) #dj/dc\n",
    "        \n",
    "        m_current=m_current-lr*m_gradient\n",
    "        \n",
    "        c_current=c_current-lr*c_gradient\n",
    "        \n",
    "        gd_df.loc[i]=[m_current,c_current,cost]\n",
    "        \n",
    "    return gd_df"
   ]
  },
  {
   "cell_type": "code",
   "execution_count": 31,
   "id": "b78c1603",
   "metadata": {},
   "outputs": [
    {
     "name": "stdout",
     "output_type": "stream",
     "text": [
      "CPU times: user 815 ms, sys: 10.9 ms, total: 826 ms\n",
      "Wall time: 818 ms\n"
     ]
    }
   ],
   "source": [
    "%%time\n",
    "gd_df=gradient_descent(X,y)"
   ]
  },
  {
   "cell_type": "code",
   "execution_count": 32,
   "id": "b2e354bf",
   "metadata": {},
   "outputs": [
    {
     "data": {
      "text/html": [
       "<div>\n",
       "<style scoped>\n",
       "    .dataframe tbody tr th:only-of-type {\n",
       "        vertical-align: middle;\n",
       "    }\n",
       "\n",
       "    .dataframe tbody tr th {\n",
       "        vertical-align: top;\n",
       "    }\n",
       "\n",
       "    .dataframe thead th {\n",
       "        text-align: right;\n",
       "    }\n",
       "</style>\n",
       "<table border=\"1\" class=\"dataframe\">\n",
       "  <thead>\n",
       "    <tr style=\"text-align: right;\">\n",
       "      <th></th>\n",
       "      <th>m</th>\n",
       "      <th>c</th>\n",
       "      <th>cost</th>\n",
       "    </tr>\n",
       "  </thead>\n",
       "  <tbody>\n",
       "    <tr>\n",
       "      <th>0</th>\n",
       "      <td>0.198001</td>\n",
       "      <td>-4.261869e-17</td>\n",
       "      <td>0.995000</td>\n",
       "    </tr>\n",
       "    <tr>\n",
       "      <th>1</th>\n",
       "      <td>0.356600</td>\n",
       "      <td>-8.145568e-17</td>\n",
       "      <td>0.641963</td>\n",
       "    </tr>\n",
       "    <tr>\n",
       "      <th>2</th>\n",
       "      <td>0.483638</td>\n",
       "      <td>-1.150122e-16</td>\n",
       "      <td>0.415454</td>\n",
       "    </tr>\n",
       "    <tr>\n",
       "      <th>3</th>\n",
       "      <td>0.585396</td>\n",
       "      <td>-1.470005e-16</td>\n",
       "      <td>0.270126</td>\n",
       "    </tr>\n",
       "    <tr>\n",
       "      <th>4</th>\n",
       "      <td>0.666903</td>\n",
       "      <td>-1.745479e-16</td>\n",
       "      <td>0.176883</td>\n",
       "    </tr>\n",
       "    <tr>\n",
       "      <th>...</th>\n",
       "      <td>...</td>\n",
       "      <td>...</td>\n",
       "      <td>...</td>\n",
       "    </tr>\n",
       "    <tr>\n",
       "      <th>995</th>\n",
       "      <td>0.994982</td>\n",
       "      <td>-3.219716e-16</td>\n",
       "      <td>0.009962</td>\n",
       "    </tr>\n",
       "    <tr>\n",
       "      <th>996</th>\n",
       "      <td>0.994982</td>\n",
       "      <td>-3.232345e-16</td>\n",
       "      <td>0.009962</td>\n",
       "    </tr>\n",
       "    <tr>\n",
       "      <th>997</th>\n",
       "      <td>0.994982</td>\n",
       "      <td>-3.243864e-16</td>\n",
       "      <td>0.009962</td>\n",
       "    </tr>\n",
       "    <tr>\n",
       "      <th>998</th>\n",
       "      <td>0.994982</td>\n",
       "      <td>-3.255382e-16</td>\n",
       "      <td>0.009962</td>\n",
       "    </tr>\n",
       "    <tr>\n",
       "      <th>999</th>\n",
       "      <td>0.994982</td>\n",
       "      <td>-3.266901e-16</td>\n",
       "      <td>0.009962</td>\n",
       "    </tr>\n",
       "  </tbody>\n",
       "</table>\n",
       "<p>1000 rows × 3 columns</p>\n",
       "</div>"
      ],
      "text/plain": [
       "            m             c      cost\n",
       "0    0.198001 -4.261869e-17  0.995000\n",
       "1    0.356600 -8.145568e-17  0.641963\n",
       "2    0.483638 -1.150122e-16  0.415454\n",
       "3    0.585396 -1.470005e-16  0.270126\n",
       "4    0.666903 -1.745479e-16  0.176883\n",
       "..        ...           ...       ...\n",
       "995  0.994982 -3.219716e-16  0.009962\n",
       "996  0.994982 -3.232345e-16  0.009962\n",
       "997  0.994982 -3.243864e-16  0.009962\n",
       "998  0.994982 -3.255382e-16  0.009962\n",
       "999  0.994982 -3.266901e-16  0.009962\n",
       "\n",
       "[1000 rows x 3 columns]"
      ]
     },
     "execution_count": 32,
     "metadata": {},
     "output_type": "execute_result"
    }
   ],
   "source": [
    "gd_df"
   ]
  },
  {
   "cell_type": "code",
   "execution_count": 33,
   "id": "89d39baf",
   "metadata": {},
   "outputs": [
    {
     "data": {
      "text/plain": [
       "<AxesSubplot:>"
      ]
     },
     "execution_count": 33,
     "metadata": {},
     "output_type": "execute_result"
    },
    {
     "data": {
      "image/png": "[encoded data removed]",
      "text/plain": [
       "<Figure size 432x288 with 1 Axes>"
      ]
     },
     "metadata": {
      "needs_background": "light"
     },
     "output_type": "display_data"
    }
   ],
   "source": [
    "gd_df.plot.line(y=[\"cost\"])"
   ]
  },
  {
   "cell_type": "code",
   "execution_count": 7,
   "id": "b8ee59d5",
   "metadata": {},
   "outputs": [],
   "source": [
    "def gradient_descent(X,y,m_current=0,c_current=0,lr=0.001,iterations=1000):\n",
    "    N=float(len(y))\n",
    "    \n",
    "    gd_df=pd.DataFrame(columns=[\"m\",\"c\",\"cost\"])\n",
    "    \n",
    "    for i in range(iterations):\n",
    "        \n",
    "        y_pred=m_current*X+c_current#y_predictions\n",
    "        \n",
    "        cost=sum([k**2 for k in y-y_pred])/N ## Cost Function\n",
    "        \n",
    "        m_gradient=(-2/N)*sum((y-y_pred)*X)#(dj/dm)\n",
    "        \n",
    "        c_gradient =(-2/N)*sum(y-y_pred)\n",
    "        \n",
    "        m_current=m_current-lr*m_gradient\n",
    "        \n",
    "        c_current=c_current-lr*c_gradient\n",
    "        \n",
    "        gd_df.loc[i]=[m_current,c_current,cost]\n",
    "        \n",
    "    return gd_df\n",
    "        \n",
    "        \n",
    "        "
   ]
  },
  {
   "cell_type": "code",
   "execution_count": null,
   "id": "1836cd88",
   "metadata": {},
   "outputs": [],
   "source": []
  }
 ],
 "metadata": {
  "language_info": {
   "codemirror_mode": {
    "name": "ipython",
    "version": 3
   },
   "file_extension": ".py",
   "mimetype": "text/x-python",
   "name": "python",
   "nbconvert_exporter": "python",
   "pygments_lexer": "ipython3",
   "version": "3.8.8"
  }
 },
 "nbformat": 4,
 "nbformat_minor": 5
}